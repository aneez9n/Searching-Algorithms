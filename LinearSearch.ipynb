{
 "cells": [
  {
   "cell_type": "code",
   "execution_count": 12,
   "metadata": {},
   "outputs": [
    {
     "name": "stdout",
     "output_type": "stream",
     "text": [
      "The required search element is at index 13\n"
     ]
    }
   ],
   "source": [
    "#provide a target element in space of find variable. the algorithm will return the index of that element\n",
    "#if it is found in the elements list.\n",
    "\n",
    "elements = [1, 2, 3, 4, 5, 60, 70, 80, 90, 100, 110, 120, 130, 140, 150]\n",
    "\n",
    "find = 140;\n",
    "\n",
    "def LinearSearch(elements, find): \n",
    "      for i in range(len(arr)): \n",
    "            if arr[i] == x: \n",
    "                print(\"The required search element is at index\", i);\n",
    "      \n",
    "    \n",
    "LinearSearch(elements, find)"
   ]
  },
  {
   "cell_type": "code",
   "execution_count": null,
   "metadata": {},
   "outputs": [],
   "source": []
  }
 ],
 "metadata": {
  "kernelspec": {
   "display_name": "Python 3",
   "language": "python",
   "name": "python3"
  },
  "language_info": {
   "codemirror_mode": {
    "name": "ipython",
    "version": 3
   },
   "file_extension": ".py",
   "mimetype": "text/x-python",
   "name": "python",
   "nbconvert_exporter": "python",
   "pygments_lexer": "ipython3",
   "version": "3.8.5"
  }
 },
 "nbformat": 4,
 "nbformat_minor": 4
}
