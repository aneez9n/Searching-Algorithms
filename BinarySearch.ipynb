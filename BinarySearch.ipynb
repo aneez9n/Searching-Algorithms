{
 "cells": [
  {
   "cell_type": "code",
   "execution_count": 3,
   "metadata": {},
   "outputs": [
    {
     "name": "stdout",
     "output_type": "stream",
     "text": [
      "Element is not present in array\n"
     ]
    }
   ],
   "source": [
    "#binary search algorithm works only if the list is sorted\n",
    "\n",
    "#provide a target element in space of find variable. the algorithm will return the index of that element\n",
    "#if it is found in the elements list.\n",
    "\n",
    "\n",
    "# Iterative Binary Search Function\n",
    "# It returns index of findElement in given array elements if present,\n",
    "# else returns -1\n",
    "def BinarySearch(elements, find):\n",
    "    low = 0\n",
    "    high = len(elements) - 1\n",
    "    mid = 0\n",
    "\n",
    "    while low <= high:\n",
    "\n",
    "        mid = (high + low) // 2\n",
    "\n",
    "        # If findElement is greater, ignore left half\n",
    "        if elements[mid] < x:\n",
    "            low = mid + 1\n",
    "\n",
    "        # If findElement is smaller, ignore right half\n",
    "        elif elements[mid] > x:\n",
    "            high = mid - 1\n",
    "\n",
    "        # means findElement is present at mid\n",
    "        else:\n",
    "            return mid\n",
    "\n",
    "    # If we reach here, then the element was not present\n",
    "    return -1\n",
    "\n",
    "\n",
    "# Test array\n",
    "elements = [ 10, 20, 30, 40, 50, 60, 70, 80, 90, 100, 110, 120, 130]\n",
    "find = 90\n",
    "\n",
    "# Function call\n",
    "result = binary_search(elements, find)\n",
    "\n",
    "if result != -1:\n",
    "    print(\"Element is present at index\", str(result))\n",
    "else:\n",
    "    print(\"Element is not present in array\")\n",
    "\n"
   ]
  },
  {
   "cell_type": "code",
   "execution_count": null,
   "metadata": {},
   "outputs": [],
   "source": []
  }
 ],
 "metadata": {
  "kernelspec": {
   "display_name": "Python 3",
   "language": "python",
   "name": "python3"
  },
  "language_info": {
   "codemirror_mode": {
    "name": "ipython",
    "version": 3
   },
   "file_extension": ".py",
   "mimetype": "text/x-python",
   "name": "python",
   "nbconvert_exporter": "python",
   "pygments_lexer": "ipython3",
   "version": "3.8.5"
  }
 },
 "nbformat": 4,
 "nbformat_minor": 4
}
